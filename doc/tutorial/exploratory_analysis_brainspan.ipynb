{
 "metadata": {
  "kernelspec": {
   "display_name": "Python 2",
   "language": "python",
   "name": "python2"
  },
  "language_info": {
   "codemirror_mode": {
    "name": "ipython",
    "version": 2
   },
   "file_extension": ".py",
   "mimetype": "text/x-python",
   "name": "python",
   "nbconvert_exporter": "python",
   "pygments_lexer": "ipython2",
   "version": "2.7.9"
  },
  "name": ""
 },
 "nbformat": 3,
 "nbformat_minor": 0,
 "worksheets": [
  {
   "cells": [
    {
     "cell_type": "raw",
     "metadata": {},
     "source": [
      ".. _exploratory_analysis_brainspan:\n",
      "\n",
      ".. currentmodule:: flotilla"
     ]
    },
    {
     "cell_type": "heading",
     "level": 1,
     "metadata": {
      "slideshow": {
       "slide_type": "slide"
      }
     },
     "source": [
      "Hypothesis: The human brain uses different genes in different regions"
     ]
    },
    {
     "cell_type": "heading",
     "level": 2,
     "metadata": {},
     "source": [
      "The data: Allen Brain Institute"
     ]
    },
    {
     "cell_type": "raw",
     "metadata": {
      "slideshow": {
       "slide_type": "fragment"
      }
     },
     "source": [
      "\n",
      "\n",
      "Disclaimer: I am not a neuroscientist, and my understanding of brain anatomy is very rudimentary, so please bear with me.\n",
      "\n",
      ".. image: http://community.brain-map.org/download/attachments/8257537/global.logo?version=2&modificationDate=1345754284219\n",
      "\n",
      "We will use the `**BrainSpan Atlas of the Developing Human Brain** <http://www.brainspan.org/>`_, which was an effort to establish molecular profiles of brain regions at varying points of developmental time.\n",
      "\n",
      "* 42 brain specimens, male and female\n",
      "* 13 developmental stages: post-conception week (pcw) 5-7 to 42 years old\n",
      "\n",
      ".. image: http://i.imgur.com/WnNlxVe.png"
     ]
    },
    {
     "cell_type": "raw",
     "metadata": {
      "slideshow": {
       "slide_type": "slide"
      }
     },
     "source": [
      "RNA sequencing is accomplished by shattering RNA transcripts, then finding where they are in the genome\n",
      "-------------------------------------------------------------------------------------------------------\n",
      "\n",
      ".. image: http://i.imgur.com/MFVt27v.png\n",
      "\n",
      "### Illumina sequencing machines\n",
      "\n",
      "![](http://dnatech.genomecenter.ucdavis.edu/wp-content/uploads/2013/05/hiseq_2000.jpg)"
     ]
    },
    {
     "cell_type": "heading",
     "level": 2,
     "metadata": {
      "slideshow": {
       "slide_type": "slide"
      }
     },
     "source": [
      "Load the data into `flotilla` via `embark`"
     ]
    },
    {
     "cell_type": "code",
     "collapsed": false,
     "input": [
      "%matplotlib inline\n",
      "\n",
      "import flotilla\n",
      "study = flotilla.embark(flotilla._brainspan)"
     ],
     "language": "python",
     "metadata": {
      "scrolled": true,
      "slideshow": {
       "slide_type": "slide"
      }
     },
     "outputs": [],
     "prompt_number": null
    },
    {
     "cell_type": "markdown",
     "metadata": {
      "slideshow": {
       "slide_type": "slide"
      }
     },
     "source": [
      "### A look behind the magic\n",
      "\n",
      "`flotilla._brainspan` is a link to a JSON file:"
     ]
    },
    {
     "cell_type": "code",
     "collapsed": false,
     "input": [
      "flotilla._brainspan"
     ],
     "language": "python",
     "metadata": {
      "scrolled": true,
      "slideshow": {
       "slide_type": "-"
      }
     },
     "outputs": [],
     "prompt_number": null
    },
    {
     "cell_type": "markdown",
     "metadata": {
      "slideshow": {
       "slide_type": "fragment"
      }
     },
     "source": [
      "This json follows the [datapackage](http://data.okfn.org/doc/data-package) specification as outlined by the Open Knowledge foundation."
     ]
    },
    {
     "cell_type": "code",
     "collapsed": false,
     "input": [
      "! curl https://s3-us-west-2.amazonaws.com/flotilla/brainspan_batch_corrected_for_amazon_s3/datapackage.json"
     ],
     "language": "python",
     "metadata": {
      "scrolled": false,
      "slideshow": {
       "slide_type": "-"
      }
     },
     "outputs": [],
     "prompt_number": null
    },
    {
     "cell_type": "markdown",
     "metadata": {
      "slideshow": {
       "slide_type": "skip"
      }
     },
     "source": [
      "2.) A string that is a name of a folder in `\"~/flotilla_projects\"`. If you use this study here, change something, and want to keep it around for later, you can use `study.save('project_name')` and then embark on it later with `flotilla.embark('project_name')`."
     ]
    },
    {
     "cell_type": "markdown",
     "metadata": {
      "slideshow": {
       "slide_type": "skip"
      }
     },
     "source": [
      "\n",
      "### Model-Compute-View-Controller\n",
      "\n",
      "Modified image of MVC\n",
      "\n",
      "labeled:\n",
      "* Model = pandas\n",
      "* Compute = scikit-learn\n",
      "* View = matplotlib, seaborn\n",
      "* controller = IPython notebook + widgets"
     ]
    },
    {
     "cell_type": "markdown",
     "metadata": {
      "slideshow": {
       "slide_type": "slide"
      }
     },
     "source": [
      "## Back to the hypothesis: The human brain has different genes expressed in different regions\n",
      "\n",
      "\n",
      "\n",
      "To address the question of how the expression varies across regions, we will Principal component analysis.\n"
     ]
    },
    {
     "cell_type": "markdown",
     "metadata": {
      "slideshow": {
       "slide_type": "slide"
      }
     },
     "source": [
      "### Principal Component Analysis (PCA)\n",
      "\n",
      "Principal Component Analysis (PCA) is a dimensionality reduction algorithm which transforms a high-dimensional space like gene expression, to smaller dimensions, like just two for x- y- plotting.\n",
      "\n",
      "![](http://www.nlpca.org/fig_pca_principal_component_analysis.png)"
     ]
    },
    {
     "cell_type": "code",
     "collapsed": false,
     "input": [
      "pcaviz = study.plot_pca(color_samples_by='structure_name')\n",
      "pcaviz.fig_reduced.savefig('brainspan_pca.pdf')"
     ],
     "language": "python",
     "metadata": {},
     "outputs": [],
     "prompt_number": null
    },
    {
     "cell_type": "markdown",
     "metadata": {
      "collapsed": true,
      "slideshow": {
       "slide_type": "skip"
      }
     },
     "source": [
      "Hmm, all those non-cerebellar cortex, non-striatum samples are really stacked on top of each other. What if we want to pull out genes that are associated with a particular structure, like the hippocampus?"
     ]
    },
    {
     "cell_type": "code",
     "collapsed": false,
     "input": [
      "# # Cerebellum markers from http://www.nature.com/nrn/journal/v16/n2/fig_tab/nrn3886_F3.html\n",
      "\n",
      "cerebellar_markers = ['ALDOC', 'PLCB3', 'SLC1A6', 'GABBR2', 'NCS1', 'PLCB4', 'GRM1', 'MAP1A', 'NPTN', 'NRGN']\n",
      "for gene in cerebellar_markers:\n",
      "    study.plot_gene(gene)"
     ],
     "language": "python",
     "metadata": {
      "scrolled": true,
      "slideshow": {
       "slide_type": "skip"
      }
     },
     "outputs": [],
     "prompt_number": null
    },
    {
     "cell_type": "markdown",
     "metadata": {
      "slideshow": {
       "slide_type": "slide"
      }
     },
     "source": [
      "## Hypothesis: Cells in the hippocampus use genes unique to its function\n",
      "\n",
      "The hippocampus is involved in memory, and we hypothesize that these cells have a unique molecular profile (set of genes that are expresssed). To accomplish this, we will use a classifier on our data to identify genes which separate hippocampal samples from non-hippocampal samples.\n",
      "\n",
      "By default, `flotilla` uses an \"Extremely Randomised Trees\" Classifier (`ExtraTreesClassifier`), which takes random subsets of the data many times to create decision trees, like this one for deciding whether to play outside:\n",
      "\n",
      "![](http://thespread.us/images/Decision_tree_model.png)"
     ]
    },
    {
     "cell_type": "code",
     "collapsed": false,
     "input": [
      "study.plot_classifier('structure_acronym: HIP', feature_subset='all features')"
     ],
     "language": "python",
     "metadata": {
      "scrolled": false
     },
     "outputs": [],
     "prompt_number": null
    },
    {
     "cell_type": "markdown",
     "metadata": {
      "slideshow": {
       "slide_type": "skip"
      }
     },
     "source": [
      "* Choose trait as \"structure_acronym: HIP\"\n",
      "* Choose features as \"all features\""
     ]
    },
    {
     "cell_type": "heading",
     "level": 2,
     "metadata": {
      "slideshow": {
       "slide_type": "slide"
      }
     },
     "source": [
      "Cilia are important for memory development"
     ]
    },
    {
     "cell_type": "raw",
     "metadata": {},
     "source": [
      "FOXJ1, C1orf88, TEKT1 are all involved in development of cilia, fingerlike protrusions from cells. Development of these cilia has been show to be important in memory formation.\n",
      "\n",
      "So it looks like our classifier picked up the right things!\n",
      "\n",
      ".. image: http://www.scientificamerican.com/sciam/cache/file/89A885D8-42B9-4A07-8A1181629B9B5AD3.jpg\n",
      "\n",
      ".. image: http://i.imgur.com/SUkM6ev.png\n",
      "    :target: http://journals.plos.org/plosone/article?id=10.1371/journal.pone.0106576\n",
      "\n",
      "                \n",
      ".. image: http://i.imgur.com/Da7HSnD.png\n",
      "    :target: http://www.jneurosci.org/content/31/27/9933.full"
     ]
    }
   ],
   "metadata": {}
  }
 ]
}